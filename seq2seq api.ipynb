{
 "cells": [
  {
   "cell_type": "code",
   "execution_count": 22,
   "metadata": {},
   "outputs": [],
   "source": [
    "import models\n",
    "reload(models.tree_utils)\n",
    "from models.tree_utils import Tree"
   ]
  },
  {
   "cell_type": "code",
   "execution_count": 25,
   "metadata": {},
   "outputs": [],
   "source": [
    "tests = [\n",
    "    '&(cube(a),&(cube(c),cube(d)))',\n",
    "    '-->(cube(a),&(cube(c),cube(d)))',\n",
    "    '<->(|(medium(e),cube(x)),adjoins(y,c))'\n",
    "]"
   ]
  },
  {
   "cell_type": "code",
   "execution_count": 26,
   "metadata": {},
   "outputs": [
    {
     "name": "stdout",
     "output_type": "stream",
     "text": [
      "['& (  <N>  ,  <N>  ) ', 'cube (  <N>  ) ', 'a', '& (  <N>  ,  <N>  ) ', 'cube (  <N>  ) ', 'c', 'cube (  <N>  ) ', 'd']\n",
      "['--> (  <N>  ,  <N>  ) ', 'cube (  <N>  ) ', 'a', '& (  <N>  ,  <N>  ) ', 'cube (  <N>  ) ', 'c', 'cube (  <N>  ) ', 'd']\n",
      "['<-> (  <N>  ,  <N>  ) ', '| (  <N>  ,  <N>  ) ', 'medium (  <N>  ) ', 'e', 'cube (  <N>  ) ', 'x', 'adjoins (  <N>  ,  <N>  ) ', 'y', 'c']\n"
     ]
    }
   ],
   "source": [
    "for fol in tests:\n",
    "    print Tree(formula=fol).inorder()"
   ]
  },
  {
   "cell_type": "code",
   "execution_count": null,
   "metadata": {},
   "outputs": [],
   "source": []
  }
 ],
 "metadata": {
  "kernelspec": {
   "display_name": "Python 2",
   "language": "python",
   "name": "python2"
  },
  "language_info": {
   "codemirror_mode": {
    "name": "ipython",
    "version": 2
   },
   "file_extension": ".py",
   "mimetype": "text/x-python",
   "name": "python",
   "nbconvert_exporter": "python",
   "pygments_lexer": "ipython2",
   "version": "2.7.10"
  }
 },
 "nbformat": 4,
 "nbformat_minor": 2
}
