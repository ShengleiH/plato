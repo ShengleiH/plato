{
 "cells": [
  {
   "cell_type": "code",
   "execution_count": 1,
   "metadata": {},
   "outputs": [
    {
     "name": "stderr",
     "output_type": "stream",
     "text": [
      "/Users/jhara_mac/Desktop/plato/env/lib/python2.7/site-packages/h5py/__init__.py:36: FutureWarning: Conversion of the second argument of issubdtype from `float` to `np.floating` is deprecated. In future, it will be treated as `np.float64 == np.dtype(float).type`.\n",
      "  from ._conv import register_converters as _register_converters\n",
      "Using TensorFlow backend.\n"
     ]
    }
   ],
   "source": [
    "import seq2seq\n",
    "import numpy as np\n",
    "from seq2seq import *\n",
    "from keras.utils.test_utils import keras_test"
   ]
  },
  {
   "cell_type": "code",
   "execution_count": 2,
   "metadata": {},
   "outputs": [],
   "source": [
    "def test_SimpleSeq2Seq(input_length=5,\n",
    "                       input_dim=3,\n",
    "                       output_length=3,\n",
    "                       output_dim=4,\n",
    "                       samples=100,\n",
    "                       hidden_dim=24):\n",
    "\n",
    "    x = np.random.random((samples, input_length, input_dim))\n",
    "    y = np.random.random((samples, output_length, output_dim))\n",
    "\n",
    "    models = []\n",
    "    models += [SimpleSeq2Seq(output_dim=output_dim, hidden_dim=hidden_dim, output_length=output_length, input_shape=(input_length, input_dim))]\n",
    "    models += [SimpleSeq2Seq(output_dim=output_dim, hidden_dim=hidden_dim, output_length=output_length, input_shape=(input_length, input_dim), depth=2)]\n",
    "\n",
    "    for model in models:\n",
    "        model.compile(loss='mse', optimizer='sgd')\n",
    "        model.fit(x, y, nb_epoch=1)"
   ]
  },
  {
   "cell_type": "code",
   "execution_count": 3,
   "metadata": {},
   "outputs": [
    {
     "name": "stderr",
     "output_type": "stream",
     "text": [
      "/Users/jhara_mac/Desktop/plato/env/lib/python2.7/site-packages/ipykernel_launcher.py:16: UserWarning: The `nb_epoch` argument in `fit` has been renamed `epochs`.\n",
      "  app.launch_new_instance()\n"
     ]
    },
    {
     "name": "stdout",
     "output_type": "stream",
     "text": [
      "Epoch 1/1\n",
      "100/100 [==============================] - 2s 21ms/step - loss: 0.3329\n",
      "Epoch 1/1\n",
      "100/100 [==============================] - 2s 24ms/step - loss: 0.3329\n"
     ]
    }
   ],
   "source": [
    "test_SimpleSeq2Seq()"
   ]
  },
  {
   "cell_type": "code",
   "execution_count": null,
   "metadata": {},
   "outputs": [],
   "source": []
  }
 ],
 "metadata": {
  "kernelspec": {
   "display_name": "Python 2",
   "language": "python",
   "name": "python2"
  },
  "language_info": {
   "codemirror_mode": {
    "name": "ipython",
    "version": 2
   },
   "file_extension": ".py",
   "mimetype": "text/x-python",
   "name": "python",
   "nbconvert_exporter": "python",
   "pygments_lexer": "ipython2",
   "version": "2.7.10"
  }
 },
 "nbformat": 4,
 "nbformat_minor": 2
}
