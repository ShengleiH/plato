{
 "cells": [
  {
   "cell_type": "markdown",
   "metadata": {},
   "source": [
    "### Evaluation Framework\n",
    "\n",
    "We will create an evaluation framework to set a baseline and test our proposed translation model.\n",
    "\n",
    "First, we need to set up a way to grade the results.\n",
    "\n",
    "The easiest thing to do would be to make calls to fol.gradegrinder.net/eval/, but this may not be possible just yet.\n",
    "\n",
    "Let's build it ourselves, but one small step at a time. If we only make it to simple phrases, that's alright.\n",
    "\n",
    "here is a proposal:\n",
    "- first, let's investigate nltk.sem.logic\n",
    "    - supports '-', '&', '|', '->', '<->', '=', '!=', 'exists', 'all', '\\'\n",
    "    - read_expr('exists x.P(x)') == read_expr('exists z.P(z)')\n",
    "    - simplify!\n",
    "    - this actually looks really good."
   ]
  },
  {
   "cell_type": "code",
   "execution_count": 2,
   "metadata": {},
   "outputs": [],
   "source": [
    "import nltk\n",
    "from nltk.sem.logic import *\n",
    "\n",
    "# basic formula parser\n",
    "read_expr = Expression.fromstring\n",
    "\n",
    "prover = nltk.Prover9()\n",
    "\n",
    "# evaluation metric\n",
    "def equality(a, b):\n",
    "    return prover.prove(a, [b]) and prover.prove(b,[a])"
   ]
  },
  {
   "cell_type": "code",
   "execution_count": 3,
   "metadata": {},
   "outputs": [],
   "source": [
    "exp1 = read_expr('walk(girl) and walk(boy) and boy = steven')\n",
    "exp2 = read_expr('walk(boy) and walk(girl) and walk(boy)')\n",
    "exp3 = read_expr('boy = steven and (walk(steven) and walk(girl))')"
   ]
  },
  {
   "cell_type": "code",
   "execution_count": 4,
   "metadata": {},
   "outputs": [
    {
     "data": {
      "text/plain": [
       "(<AndExpression (walk(girl) & walk(boy) & (boy = steven))>,\n",
       " <AndExpression (walk(boy) & walk(girl) & walk(boy))>,\n",
       " <AndExpression ((boy = steven) & walk(steven) & walk(girl))>)"
      ]
     },
     "execution_count": 4,
     "metadata": {},
     "output_type": "execute_result"
    }
   ],
   "source": [
    "exp1, exp2, exp3"
   ]
  },
  {
   "cell_type": "code",
   "execution_count": 5,
   "metadata": {},
   "outputs": [
    {
     "name": "stdout",
     "output_type": "stream",
     "text": [
      "False\n",
      "False\n",
      "True\n"
     ]
    }
   ],
   "source": [
    "print equality(exp1, exp2)\n",
    "print equality(exp2, exp3)\n",
    "print equality(exp1, exp3)"
   ]
  },
  {
   "cell_type": "markdown",
   "metadata": {},
   "source": [
    "Okay, so now we have a way to evaluate arbitrary expressions and see if they are equivalent. Our definition of equivalent is bidirectional equality. If exp1 <-> exp2, exp1 = exp2. It's a little primitive, but a good starting place with no overhead.\n",
    "\n",
    "The next step is to get knowledge base triples. We need a function approximator to go from '(likes, boy, girl)' to 'likes(boy, girl)'. We can hand-code this. The question is how do we go from the sentence to the phrase?\n",
    "\n",
    "For now, let's stick to the Openproof vocabulary. That's probably a good place to start. We'll have to wait to hear back from Dan before we can do this. In theory, we just have to generate a ton of FOL sentences and use the NL generator to generate the resulting translations.\n",
    "\n",
    "One thing that I really want to do but don't really want to do is to refactor the Java code to Python. This would help because the Java code is a disaster. The trouble is that there are some things that are so convoluted that it will be really fucking hard."
   ]
  },
  {
   "cell_type": "code",
   "execution_count": 14,
   "metadata": {},
   "outputs": [],
   "source": [
    "\"\"\"\n",
    "Since it'll take some time to get the translations,\n",
    "let's write a toy dataset so that we can have some stuff\n",
    "to work with.\n",
    "\"\"\"\n",
    "handwritten_dataset = []\n",
    "\n"
   ]
  },
  {
   "cell_type": "code",
   "execution_count": 15,
   "metadata": {},
   "outputs": [
    {
     "data": {
      "text/plain": [
       "True"
      ]
     },
     "execution_count": 15,
     "metadata": {},
     "output_type": "execute_result"
    }
   ],
   "source": [
    "equality(exp1, exp2)"
   ]
  },
  {
   "cell_type": "code",
   "execution_count": null,
   "metadata": {},
   "outputs": [],
   "source": []
  }
 ],
 "metadata": {
  "kernelspec": {
   "display_name": "Python 2",
   "language": "python",
   "name": "python2"
  },
  "language_info": {
   "codemirror_mode": {
    "name": "ipython",
    "version": 2
   },
   "file_extension": ".py",
   "mimetype": "text/x-python",
   "name": "python",
   "nbconvert_exporter": "python",
   "pygments_lexer": "ipython2",
   "version": "2.7.10"
  }
 },
 "nbformat": 4,
 "nbformat_minor": 2
}
